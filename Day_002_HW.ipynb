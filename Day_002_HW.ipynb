{
 "cells": [
  {
   "cell_type": "markdown",
   "metadata": {},
   "source": [
    "## [作業目標]\n",
    "了解機器學習適合應用的領域與範疇。"
   ]
  },
  {
   "cell_type": "markdown",
   "metadata": {},
   "source": [
    "## [作業重點]\n",
    "透過瞭解機器學習的運作方式，找出非常適用機器學習應用的領域及其原因"
   ]
  },
  {
   "cell_type": "markdown",
   "metadata": {},
   "source": [
    "## 作業\n",
    "請找出一個你認為機器學習可以發光發熱的領域並闡述原因? "
   ]
  },
  {
   "cell_type": "markdown",
   "metadata": {},
   "source": [
    "我認為機器學習可以用在室內裝潢設計上面。\n",
    "\n",
    "現在很多有名的設計師或建商都會提供樣品屋，網路上也找得到很多不同風格的室內裝潢設計的照片或樣版。只要將這些樣品屋的詳細尺寸以及設計師的風格（比方說，自然風，極簡風，北歐風等等）當作input，並將相對應風格所使用的家具的顏色、大小、風格等當作output，我想機器學習應該可以學習出一套模型，可以挑選出適合房間的尺寸以及符合房間主人喜好的家具。甚至可以建議房間中家具及裝潢的擺設。"
   ]
  }
 ],
 "metadata": {
  "kernelspec": {
   "display_name": "Python 3",
   "language": "python",
   "name": "python3"
  },
  "language_info": {
   "codemirror_mode": {
    "name": "ipython",
    "version": 3
   },
   "file_extension": ".py",
   "mimetype": "text/x-python",
   "name": "python",
   "nbconvert_exporter": "python",
   "pygments_lexer": "ipython3",
   "version": "3.7.3"
  }
 },
 "nbformat": 4,
 "nbformat_minor": 2
}
