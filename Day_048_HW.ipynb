{
 "cells": [
  {
   "cell_type": "code",
   "execution_count": 1,
   "metadata": {},
   "outputs": [],
   "source": [
    "from sklearn import datasets, metrics\n",
    "from sklearn.model_selection import train_test_split, KFold, GridSearchCV, RandomizedSearchCV\n",
    "from sklearn.ensemble import GradientBoostingClassifier, GradientBoostingRegressor\n",
    "import os\n",
    "import numpy as np\n",
    "import pandas as pd"
   ]
  },
  {
   "cell_type": "code",
   "execution_count": 7,
   "metadata": {},
   "outputs": [],
   "source": [
    "dir_data = './data'\n",
    "f_app_train = os.path.join(dir_data, 'hw48_train.csv')\n",
    "f_app_test  = os.path.join(dir_data, 'hw48_test.csv')\n",
    "f_app_label = os.path.join(dir_data, 'hw48_trainLabels.csv')\n",
    "\n",
    "app_train = pd.read_csv(f_app_train, header=None)\n",
    "app_test  = pd.read_csv(f_app_test, header=None)\n",
    "app_label = pd.read_csv(f_app_label, header=None)"
   ]
  },
  {
   "cell_type": "code",
   "execution_count": 24,
   "metadata": {},
   "outputs": [
    {
     "name": "stderr",
     "output_type": "stream",
     "text": [
      "C:\\Users\\hheart1920\\Anaconda3\\lib\\site-packages\\sklearn\\utils\\deprecation.py:66: DeprecationWarning: Class Imputer is deprecated; Imputer was deprecated in version 0.20 and will be removed in 0.22. Import impute.SimpleImputer from sklearn instead.\n",
      "  warnings.warn(msg, category=DeprecationWarning)\n"
     ]
    }
   ],
   "source": [
    "from sklearn.preprocessing import MinMaxScaler, Imputer\n",
    "\n",
    "train = app_train\n",
    "features = list(train.columns)\n",
    "\n",
    "# Fill-in lost values\n",
    "imputer = Imputer(strategy = 'median')\n",
    "imputer.fit(train)\n",
    "train = imputer.transform(train)\n",
    "\n",
    "# Scaling\n",
    "scaler = MinMaxScaler(feature_range = (0, 1))\n",
    "scaler.fit(train)\n",
    "train = pd.DataFrame(scaler.transform(train))\n"
   ]
  },
  {
   "cell_type": "code",
   "execution_count": 31,
   "metadata": {},
   "outputs": [
    {
     "name": "stderr",
     "output_type": "stream",
     "text": [
      "C:\\Users\\hheart1920\\Anaconda3\\lib\\site-packages\\sklearn\\model_selection\\_split.py:1978: FutureWarning: The default value of cv will change from 3 to 5 in version 0.22. Specify it explicitly to silence this warning.\n",
      "  warnings.warn(CV_WARNING, FutureWarning)\n",
      "[Parallel(n_jobs=-1)]: Using backend LokyBackend with 8 concurrent workers.\n"
     ]
    },
    {
     "name": "stdout",
     "output_type": "stream",
     "text": [
      "Fitting 3 folds for each of 10 candidates, totalling 30 fits\n"
     ]
    },
    {
     "name": "stderr",
     "output_type": "stream",
     "text": [
      "[Parallel(n_jobs=-1)]: Done  30 out of  30 | elapsed:    3.8s finished\n",
      "C:\\Users\\hheart1920\\Anaconda3\\lib\\site-packages\\sklearn\\ensemble\\gradient_boosting.py:1450: DataConversionWarning: A column-vector y was passed when a 1d array was expected. Please change the shape of y to (n_samples, ), for example using ravel().\n",
      "  y = column_or_1d(y, warn=True)\n",
      "C:\\Users\\hheart1920\\Anaconda3\\lib\\site-packages\\sklearn\\ensemble\\gradient_boosting.py:1450: DataConversionWarning: A column-vector y was passed when a 1d array was expected. Please change the shape of y to (n_samples, ), for example using ravel().\n",
      "  y = column_or_1d(y, warn=True)\n"
     ]
    },
    {
     "name": "stdout",
     "output_type": "stream",
     "text": [
      "Best params:  {'n_estimators': 442, 'max_depth': 5}\n"
     ]
    }
   ],
   "source": [
    "n_estimators = list(range(100, 500))\n",
    "max_depth = list(range(1, 10))\n",
    "param_search = dict(n_estimators=n_estimators, max_depth=max_depth)\n",
    "\n",
    "clf = GradientBoostingClassifier()\n",
    "\n",
    "rand_search = RandomizedSearchCV(clf, param_search, scoring='neg_mean_squared_error', n_jobs=-1, verbose=1)\n",
    "\n",
    "param_result = rand_search.fit(train, app_label)\n",
    "\n",
    "clf_bestparam = GradientBoostingClassifier(max_depth=param_result.best_params_['max_depth'],\n",
    "                                           n_estimators=param_result.best_params_['n_estimators'])\n",
    "\n",
    "clf_bestparam.fit(train, app_label)\n",
    "\n",
    "print('Best params: ', param_result.best_params_)"
   ]
  },
  {
   "cell_type": "code",
   "execution_count": 33,
   "metadata": {},
   "outputs": [
    {
     "name": "stdout",
     "output_type": "stream",
     "text": [
      "[1 0 1 ... 1 0 1]\n"
     ]
    }
   ],
   "source": [
    "test = app_test\n",
    "\n",
    "# Fill-in lost values\n",
    "test = imputer.transform(test)\n",
    "\n",
    "# Scaling\n",
    "test = scaler.transform(test)\n",
    "\n",
    "y_pred = clf_bestparam.predict(test)\n",
    "print(y_pred)"
   ]
  },
  {
   "cell_type": "code",
   "execution_count": 50,
   "metadata": {},
   "outputs": [
    {
     "name": "stdout",
     "output_type": "stream",
     "text": [
      "        Id  Solution\n",
      "0        1         1\n",
      "1        2         0\n",
      "2        3         1\n",
      "3        4         0\n",
      "4        5         0\n",
      "5        6         0\n",
      "6        7         0\n",
      "7        8         1\n",
      "8        9         0\n",
      "9       10         0\n",
      "10      11         1\n",
      "11      12         1\n",
      "12      13         1\n",
      "13      14         0\n",
      "14      15         0\n",
      "15      16         1\n",
      "16      17         0\n",
      "17      18         1\n",
      "18      19         0\n",
      "19      20         1\n",
      "20      21         0\n",
      "21      22         1\n",
      "22      23         1\n",
      "23      24         0\n",
      "24      25         1\n",
      "25      26         1\n",
      "26      27         1\n",
      "27      28         0\n",
      "28      29         1\n",
      "29      30         0\n",
      "...    ...       ...\n",
      "8970  8971         0\n",
      "8971  8972         0\n",
      "8972  8973         1\n",
      "8973  8974         1\n",
      "8974  8975         1\n",
      "8975  8976         1\n",
      "8976  8977         0\n",
      "8977  8978         1\n",
      "8978  8979         1\n",
      "8979  8980         1\n",
      "8980  8981         1\n",
      "8981  8982         1\n",
      "8982  8983         0\n",
      "8983  8984         0\n",
      "8984  8985         0\n",
      "8985  8986         1\n",
      "8986  8987         0\n",
      "8987  8988         0\n",
      "8988  8989         1\n",
      "8989  8990         0\n",
      "8990  8991         0\n",
      "8991  8992         1\n",
      "8992  8993         0\n",
      "8993  8994         1\n",
      "8994  8995         1\n",
      "8995  8996         0\n",
      "8996  8997         1\n",
      "8997  8998         1\n",
      "8998  8999         0\n",
      "8999  9000         1\n",
      "\n",
      "[9000 rows x 2 columns]\n"
     ]
    }
   ],
   "source": [
    "pred_result = pd.DataFrame()\n",
    "\n",
    "pred_result['Id'] = list(range(1, (y_pred.size + 1)))\n",
    "pred_result['Solution'] = list(y_pred)\n",
    "\n",
    "print(pred_result)\n",
    "\n",
    "pred_result.to_csv('basic_result_hw48.csv', index=False)"
   ]
  },
  {
   "cell_type": "code",
   "execution_count": null,
   "metadata": {},
   "outputs": [],
   "source": []
  }
 ],
 "metadata": {
  "kernelspec": {
   "display_name": "Python 3",
   "language": "python",
   "name": "python3"
  },
  "language_info": {
   "codemirror_mode": {
    "name": "ipython",
    "version": 3
   },
   "file_extension": ".py",
   "mimetype": "text/x-python",
   "name": "python",
   "nbconvert_exporter": "python",
   "pygments_lexer": "ipython3",
   "version": "3.7.3"
  }
 },
 "nbformat": 4,
 "nbformat_minor": 2
}
