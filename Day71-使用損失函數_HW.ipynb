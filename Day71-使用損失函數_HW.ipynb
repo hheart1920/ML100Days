{
 "cells": [
  {
   "cell_type": "markdown",
   "metadata": {
    "colab_type": "text",
    "id": "cj4tE8e8iUtO"
   },
   "source": [
    "#   \n",
    "\n",
    "# 作業目標:\n",
    "\n",
    "    1. 藉由固定的 dataset, 來驗證不同loss function\n",
    "    2. Dataset 的特性跟我們選用的loss function 對accrancy 的影響\n",
    "    \n",
    "    \n",
    "# 作業重點: \n",
    "    請分別選用 \"MSE\", \"binary _crossentropy\"\n",
    "    查看Train/test accurancy and loss rate\n",
    "    "
   ]
  },
  {
   "cell_type": "markdown",
   "metadata": {
    "colab_type": "text",
    "id": "R51J4KyyiUsL"
   },
   "source": [
    "# 導入必要的函數"
   ]
  },
  {
   "cell_type": "code",
   "execution_count": 1,
   "metadata": {
    "colab": {},
    "colab_type": "code",
    "id": "Qd68OQjciUsM"
   },
   "outputs": [
    {
     "name": "stderr",
     "output_type": "stream",
     "text": [
      "Using TensorFlow backend.\n"
     ]
    }
   ],
   "source": [
    "from keras.datasets import cifar10\n",
    "import numpy as np\n",
    "np.random.seed(10)"
   ]
  },
  {
   "cell_type": "markdown",
   "metadata": {
    "colab_type": "text",
    "id": "GxKuzQLQiUsP"
   },
   "source": [
    "# 資料準備"
   ]
  },
  {
   "cell_type": "code",
   "execution_count": 2,
   "metadata": {
    "colab": {},
    "colab_type": "code",
    "id": "MIbFZdTCiUsQ"
   },
   "outputs": [],
   "source": [
    "#取得Keras Dataset\n",
    "(x_img_train,y_label_train),(x_img_test,y_label_test)=cifar10.load_data()"
   ]
  },
  {
   "cell_type": "code",
   "execution_count": 3,
   "metadata": {
    "colab": {},
    "colab_type": "code",
    "id": "J8CJVjNOiUsS"
   },
   "outputs": [
    {
     "name": "stdout",
     "output_type": "stream",
     "text": [
      "train data: images: (50000, 32, 32, 3)  labels: (50000, 1)\n",
      "test  data: images: (10000, 32, 32, 3)  labels: (10000, 1)\n"
     ]
    }
   ],
   "source": [
    "#確認 CIFAR10 Dataset 資料維度\n",
    "print(\"train data:\",'images:',x_img_train.shape,\n",
    "      \" labels:\",y_label_train.shape) \n",
    "print(\"test  data:\",'images:',x_img_test.shape ,\n",
    "      \" labels:\",y_label_test.shape) "
   ]
  },
  {
   "cell_type": "code",
   "execution_count": 4,
   "metadata": {
    "colab": {},
    "colab_type": "code",
    "id": "V3P6P4DXiUsV"
   },
   "outputs": [],
   "source": [
    "#資料正規化\n",
    "x_img_train_normalize = x_img_train.astype('float32') / 255.0\n",
    "x_img_test_normalize = x_img_test.astype('float32') / 255.0"
   ]
  },
  {
   "cell_type": "code",
   "execution_count": 5,
   "metadata": {
    "colab": {},
    "colab_type": "code",
    "id": "vsDyjKYliUsX"
   },
   "outputs": [
    {
     "data": {
      "text/plain": [
       "(10000, 10)"
      ]
     },
     "execution_count": 5,
     "metadata": {},
     "output_type": "execute_result"
    }
   ],
   "source": [
    "#針對Label 做 ONE HOT ENCODE\n",
    "from keras.utils import np_utils\n",
    "y_label_train_OneHot = np_utils.to_categorical(y_label_train)\n",
    "y_label_test_OneHot = np_utils.to_categorical(y_label_test)\n",
    "y_label_test_OneHot.shape"
   ]
  },
  {
   "cell_type": "markdown",
   "metadata": {
    "colab_type": "text",
    "id": "RutW2OtgiUsZ"
   },
   "source": [
    "# 建立模型"
   ]
  },
  {
   "cell_type": "code",
   "execution_count": 6,
   "metadata": {
    "colab": {},
    "colab_type": "code",
    "id": "aHz592aXiUsa"
   },
   "outputs": [],
   "source": [
    "from keras.models import Sequential\n",
    "from keras.layers import Dense, Dropout, Activation, Flatten\n",
    "from keras.layers import Conv2D, MaxPooling2D, ZeroPadding2D"
   ]
  },
  {
   "cell_type": "code",
   "execution_count": 7,
   "metadata": {
    "colab": {},
    "colab_type": "code",
    "id": "hslqrIp0iUse"
   },
   "outputs": [],
   "source": [
    "model = Sequential()"
   ]
  },
  {
   "cell_type": "code",
   "execution_count": 8,
   "metadata": {
    "colab": {},
    "colab_type": "code",
    "id": "Hqe35hs2iUsi"
   },
   "outputs": [],
   "source": [
    "#卷積層1"
   ]
  },
  {
   "cell_type": "code",
   "execution_count": 8,
   "metadata": {
    "colab": {},
    "colab_type": "code",
    "id": "ED7dqe1YiUsm"
   },
   "outputs": [],
   "source": [
    "model.add(Conv2D(filters=32,kernel_size=(3,3),\n",
    "                 input_shape=(32, 32,3), \n",
    "                 activation='relu', \n",
    "                 padding='same'))"
   ]
  },
  {
   "cell_type": "code",
   "execution_count": 9,
   "metadata": {
    "colab": {},
    "colab_type": "code",
    "id": "n-GRKmPViUso"
   },
   "outputs": [],
   "source": [
    "model.add(Dropout(rate=0.25))"
   ]
  },
  {
   "cell_type": "code",
   "execution_count": 10,
   "metadata": {
    "colab": {},
    "colab_type": "code",
    "id": "GlWnnD1uiUsw"
   },
   "outputs": [],
   "source": [
    "model.add(MaxPooling2D(pool_size=(2, 2)))"
   ]
  },
  {
   "cell_type": "code",
   "execution_count": 12,
   "metadata": {
    "colab": {},
    "colab_type": "code",
    "id": "nawlkt55iUsy"
   },
   "outputs": [],
   "source": [
    "#卷積層2與池化層2"
   ]
  },
  {
   "cell_type": "code",
   "execution_count": 11,
   "metadata": {
    "colab": {},
    "colab_type": "code",
    "id": "xxyETiKNiUs1"
   },
   "outputs": [],
   "source": [
    "model.add(Conv2D(filters=64, kernel_size=(3, 3), \n",
    "                 activation='relu', padding='same'))"
   ]
  },
  {
   "cell_type": "code",
   "execution_count": 12,
   "metadata": {
    "colab": {},
    "colab_type": "code",
    "id": "RqcKWtqGiUs2"
   },
   "outputs": [],
   "source": [
    "model.add(Dropout(0.25))"
   ]
  },
  {
   "cell_type": "code",
   "execution_count": 13,
   "metadata": {
    "colab": {},
    "colab_type": "code",
    "id": "BUOOzlqfiUs4"
   },
   "outputs": [],
   "source": [
    "model.add(MaxPooling2D(pool_size=(2, 2)))"
   ]
  },
  {
   "cell_type": "code",
   "execution_count": 16,
   "metadata": {
    "colab": {},
    "colab_type": "code",
    "id": "LpkppB2siUs7"
   },
   "outputs": [],
   "source": [
    "#建立神經網路(平坦層、隱藏層、輸出層)"
   ]
  },
  {
   "cell_type": "code",
   "execution_count": 14,
   "metadata": {
    "colab": {},
    "colab_type": "code",
    "id": "UQOfU54_iUs_"
   },
   "outputs": [],
   "source": [
    "model.add(Flatten())\n",
    "model.add(Dropout(rate=0.25))"
   ]
  },
  {
   "cell_type": "code",
   "execution_count": 15,
   "metadata": {
    "colab": {},
    "colab_type": "code",
    "id": "_NV-8sq4iUtD"
   },
   "outputs": [],
   "source": [
    "model.add(Dense(1024, activation='relu'))\n",
    "model.add(Dropout(rate=0.25))"
   ]
  },
  {
   "cell_type": "code",
   "execution_count": 16,
   "metadata": {
    "colab": {},
    "colab_type": "code",
    "id": "qVK77krOiUtF"
   },
   "outputs": [],
   "source": [
    "model.add(Dense(10, activation='softmax'))"
   ]
  },
  {
   "cell_type": "code",
   "execution_count": 17,
   "metadata": {
    "colab": {},
    "colab_type": "code",
    "id": "ZxzRIjR0iUtH"
   },
   "outputs": [
    {
     "name": "stdout",
     "output_type": "stream",
     "text": [
      "Model: \"sequential_1\"\n",
      "_________________________________________________________________\n",
      "Layer (type)                 Output Shape              Param #   \n",
      "=================================================================\n",
      "conv2d_1 (Conv2D)            (None, 32, 32, 32)        896       \n",
      "_________________________________________________________________\n",
      "dropout_1 (Dropout)          (None, 32, 32, 32)        0         \n",
      "_________________________________________________________________\n",
      "max_pooling2d_1 (MaxPooling2 (None, 16, 16, 32)        0         \n",
      "_________________________________________________________________\n",
      "conv2d_2 (Conv2D)            (None, 16, 16, 64)        18496     \n",
      "_________________________________________________________________\n",
      "dropout_2 (Dropout)          (None, 16, 16, 64)        0         \n",
      "_________________________________________________________________\n",
      "max_pooling2d_2 (MaxPooling2 (None, 8, 8, 64)          0         \n",
      "_________________________________________________________________\n",
      "flatten_1 (Flatten)          (None, 4096)              0         \n",
      "_________________________________________________________________\n",
      "dropout_3 (Dropout)          (None, 4096)              0         \n",
      "_________________________________________________________________\n",
      "dense_1 (Dense)              (None, 1024)              4195328   \n",
      "_________________________________________________________________\n",
      "dropout_4 (Dropout)          (None, 1024)              0         \n",
      "_________________________________________________________________\n",
      "dense_2 (Dense)              (None, 10)                10250     \n",
      "=================================================================\n",
      "Total params: 4,224,970\n",
      "Trainable params: 4,224,970\n",
      "Non-trainable params: 0\n",
      "_________________________________________________________________\n",
      "None\n"
     ]
    }
   ],
   "source": [
    "#檢查model 的STACK\n",
    "print(model.summary())"
   ]
  },
  {
   "cell_type": "markdown",
   "metadata": {
    "colab_type": "text",
    "id": "QJCtpJM0iUtJ"
   },
   "source": [
    "# 載入之前訓練的模型"
   ]
  },
  {
   "cell_type": "code",
   "execution_count": 21,
   "metadata": {
    "colab": {},
    "colab_type": "code",
    "id": "JU3A6NzQiUtK"
   },
   "outputs": [
    {
     "name": "stdout",
     "output_type": "stream",
     "text": [
      "載入模型失敗!開始訓練一個新模型\n"
     ]
    }
   ],
   "source": [
    "try:\n",
    "    model.load_weights(\"SaveModel/cifarCnnModel.h5\")\n",
    "    print(\"載入模型成功!繼續訓練模型\")\n",
    "except :    \n",
    "    print(\"載入模型失敗!開始訓練一個新模型\")"
   ]
  },
  {
   "cell_type": "markdown",
   "metadata": {
    "colab_type": "text",
    "id": "qBbCuziziUtM"
   },
   "source": [
    "# 訓練模型"
   ]
  },
  {
   "cell_type": "code",
   "execution_count": 18,
   "metadata": {
    "colab": {},
    "colab_type": "code",
    "id": "Q6BiBcseiUtP"
   },
   "outputs": [
    {
     "data": {
      "text/plain": [
       "'\\n作業:\\n請分別選用 \"MSE\", \"binary _crossentropy\"\\n查看Train/test accurancy and loss rate\\n'"
      ]
     },
     "execution_count": 18,
     "metadata": {},
     "output_type": "execute_result"
    }
   ],
   "source": [
    "model.compile(loss='categorical_crossentropy', optimizer='sgd', metrics=['accuracy'])\n",
    "\n",
    "'''\n",
    "作業:\n",
    "請分別選用 \"MSE\", \"binary _crossentropy\"\n",
    "查看Train/test accurancy and loss rate\n",
    "'''"
   ]
  },
  {
   "cell_type": "code",
   "execution_count": 22,
   "metadata": {
    "colab": {},
    "colab_type": "code",
    "id": "4-GdDgmQiUtS"
   },
   "outputs": [
    {
     "name": "stdout",
     "output_type": "stream",
     "text": [
      "Train on 37500 samples, validate on 12500 samples\n",
      "Epoch 1/12\n",
      "37500/37500 [==============================] - 5s 136us/step - loss: 1.3213 - accuracy: 0.5292 - val_loss: 1.4030 - val_accuracy: 0.5439\n",
      "Epoch 2/12\n",
      "37500/37500 [==============================] - 5s 137us/step - loss: 1.3007 - accuracy: 0.5366 - val_loss: 1.3873 - val_accuracy: 0.5465\n",
      "Epoch 3/12\n",
      "37500/37500 [==============================] - 5s 141us/step - loss: 1.2811 - accuracy: 0.5418 - val_loss: 1.3379 - val_accuracy: 0.5550\n",
      "Epoch 4/12\n",
      "37500/37500 [==============================] - 5s 135us/step - loss: 1.2665 - accuracy: 0.5487 - val_loss: 1.3156 - val_accuracy: 0.5728\n",
      "Epoch 5/12\n",
      "37500/37500 [==============================] - 5s 135us/step - loss: 1.2409 - accuracy: 0.5584 - val_loss: 1.3052 - val_accuracy: 0.5682\n",
      "Epoch 6/12\n",
      "37500/37500 [==============================] - 5s 134us/step - loss: 1.2249 - accuracy: 0.5619 - val_loss: 1.2855 - val_accuracy: 0.5792\n",
      "Epoch 7/12\n",
      "37500/37500 [==============================] - 5s 134us/step - loss: 1.2122 - accuracy: 0.5663 - val_loss: 1.2756 - val_accuracy: 0.5810\n",
      "Epoch 8/12\n",
      "37500/37500 [==============================] - 5s 131us/step - loss: 1.1975 - accuracy: 0.5748 - val_loss: 1.2758 - val_accuracy: 0.5861\n",
      "Epoch 9/12\n",
      "37500/37500 [==============================] - 5s 131us/step - loss: 1.1811 - accuracy: 0.5799 - val_loss: 1.2401 - val_accuracy: 0.6002\n",
      "Epoch 10/12\n",
      "37500/37500 [==============================] - 5s 132us/step - loss: 1.1691 - accuracy: 0.5836 - val_loss: 1.2655 - val_accuracy: 0.5934\n",
      "Epoch 11/12\n",
      "37500/37500 [==============================] - 5s 133us/step - loss: 1.1586 - accuracy: 0.5891 - val_loss: 1.2263 - val_accuracy: 0.6103\n",
      "Epoch 12/12\n",
      "37500/37500 [==============================] - 5s 131us/step - loss: 1.1393 - accuracy: 0.5974 - val_loss: 1.2213 - val_accuracy: 0.6066\n"
     ]
    }
   ],
   "source": [
    "train_history = model.fit(x_img_train_normalize, y_label_train_OneHot,\n",
    "                          validation_split = 0.25,\n",
    "                          epochs = 12, batch_size = 128, verbose = 1)"
   ]
  },
  {
   "cell_type": "code",
   "execution_count": 25,
   "metadata": {},
   "outputs": [
    {
     "data": {
      "image/png": "[encoded data removed]",
      "text/plain": [
       "<Figure size 432x288 with 1 Axes>"
      ]
     },
     "metadata": {
      "needs_background": "light"
     },
     "output_type": "display_data"
    }
   ],
   "source": [
    "import matplotlib.pyplot as plt\n",
    "%matplotlib inline\n",
    "\n",
    "def show_train_history(train_acc, test_acc):\n",
    "    plt.plot(train_history.history[train_acc])\n",
    "    plt.plot(train_history.history[test_acc])\n",
    "    plt.title('Train History')\n",
    "    plt.ylabel('Accuracy')\n",
    "    plt.xlabel('Epoch')\n",
    "    plt.legend(['train_acc', 'val_acc'], loc='upper left')\n",
    "    plt.show()\n",
    "\n",
    "show_train_history('accuracy', 'val_accuracy')"
   ]
  },
  {
   "cell_type": "code",
   "execution_count": 26,
   "metadata": {
    "scrolled": false
   },
   "outputs": [
    {
     "name": "stdout",
     "output_type": "stream",
     "text": [
      "Train on 37500 samples, validate on 12500 samples\n",
      "Epoch 1/12\n",
      "37500/37500 [==============================] - 5s 144us/step - loss: 0.0523 - accuracy: 0.6054 - val_loss: 0.0555 - val_accuracy: 0.6150\n",
      "Epoch 2/12\n",
      "37500/37500 [==============================] - 5s 136us/step - loss: 0.0520 - accuracy: 0.6091 - val_loss: 0.0553 - val_accuracy: 0.6156\n",
      "Epoch 3/12\n",
      "37500/37500 [==============================] - 5s 137us/step - loss: 0.0520 - accuracy: 0.6070 - val_loss: 0.0553 - val_accuracy: 0.6148\n",
      "Epoch 4/12\n",
      "37500/37500 [==============================] - 5s 137us/step - loss: 0.0519 - accuracy: 0.6099 - val_loss: 0.0552 - val_accuracy: 0.6147\n",
      "Epoch 5/12\n",
      "37500/37500 [==============================] - 5s 135us/step - loss: 0.0521 - accuracy: 0.6079 - val_loss: 0.0551 - val_accuracy: 0.6151\n",
      "Epoch 6/12\n",
      "37500/37500 [==============================] - 5s 136us/step - loss: 0.0522 - accuracy: 0.6054 - val_loss: 0.0551 - val_accuracy: 0.6133\n",
      "Epoch 7/12\n",
      "37500/37500 [==============================] - 5s 135us/step - loss: 0.0519 - accuracy: 0.6092 - val_loss: 0.0550 - val_accuracy: 0.6141\n",
      "Epoch 8/12\n",
      "37500/37500 [==============================] - 5s 133us/step - loss: 0.0516 - accuracy: 0.6116 - val_loss: 0.0550 - val_accuracy: 0.6145\n",
      "Epoch 9/12\n",
      "37500/37500 [==============================] - 5s 137us/step - loss: 0.0517 - accuracy: 0.6110 - val_loss: 0.0549 - val_accuracy: 0.6135\n",
      "Epoch 10/12\n",
      "37500/37500 [==============================] - 5s 136us/step - loss: 0.0518 - accuracy: 0.6095 - val_loss: 0.0549 - val_accuracy: 0.6146\n",
      "Epoch 11/12\n",
      "37500/37500 [==============================] - 5s 136us/step - loss: 0.0519 - accuracy: 0.6096 - val_loss: 0.0549 - val_accuracy: 0.6150\n",
      "Epoch 12/12\n",
      "37500/37500 [==============================] - 5s 135us/step - loss: 0.0517 - accuracy: 0.6108 - val_loss: 0.0548 - val_accuracy: 0.6147\n"
     ]
    },
    {
     "data": {
      "image/png": "[encoded data removed]",
      "text/plain": [
       "<Figure size 432x288 with 1 Axes>"
      ]
     },
     "metadata": {
      "needs_background": "light"
     },
     "output_type": "display_data"
    }
   ],
   "source": [
    "model.compile(loss='MSE', optimizer='sgd', metrics=['accuracy'])\n",
    "'''\n",
    "作業:\n",
    "請分別選用 \"MSE\", \"binary _crossentropy\"\n",
    "查看Train/test accurancy and loss rate\n",
    "'''\n",
    "\n",
    "train_history = model.fit(x_img_train_normalize, y_label_train_OneHot,\n",
    "                          validation_split = 0.25,\n",
    "                          epochs = 12, batch_size = 128, verbose = 1)\n",
    "\n",
    "show_train_history('accuracy', 'val_accuracy')"
   ]
  },
  {
   "cell_type": "code",
   "execution_count": 27,
   "metadata": {},
   "outputs": [
    {
     "name": "stdout",
     "output_type": "stream",
     "text": [
      "Train on 37500 samples, validate on 12500 samples\n",
      "Epoch 1/12\n",
      "37500/37500 [==============================] - 5s 146us/step - loss: 0.1758 - accuracy: 0.9304 - val_loss: 0.1879 - val_accuracy: 0.9258\n",
      "Epoch 2/12\n",
      "37500/37500 [==============================] - 5s 138us/step - loss: 0.1753 - accuracy: 0.9309 - val_loss: 0.1876 - val_accuracy: 0.9260\n",
      "Epoch 3/12\n",
      "37500/37500 [==============================] - 5s 138us/step - loss: 0.1747 - accuracy: 0.9310 - val_loss: 0.1870 - val_accuracy: 0.9262\n",
      "Epoch 4/12\n",
      "37500/37500 [==============================] - 5s 139us/step - loss: 0.1746 - accuracy: 0.9312 - val_loss: 0.1868 - val_accuracy: 0.9266\n",
      "Epoch 5/12\n",
      "37500/37500 [==============================] - 5s 139us/step - loss: 0.1741 - accuracy: 0.9311 - val_loss: 0.1869 - val_accuracy: 0.9267\n",
      "Epoch 6/12\n",
      "37500/37500 [==============================] - 5s 140us/step - loss: 0.1737 - accuracy: 0.9315 - val_loss: 0.1864 - val_accuracy: 0.9266\n",
      "Epoch 7/12\n",
      "37500/37500 [==============================] - 5s 138us/step - loss: 0.1739 - accuracy: 0.9314 - val_loss: 0.1864 - val_accuracy: 0.9270\n",
      "Epoch 8/12\n",
      "37500/37500 [==============================] - 5s 139us/step - loss: 0.1735 - accuracy: 0.9314 - val_loss: 0.1866 - val_accuracy: 0.9262\n",
      "Epoch 9/12\n",
      "37500/37500 [==============================] - 5s 138us/step - loss: 0.1732 - accuracy: 0.9316 - val_loss: 0.1859 - val_accuracy: 0.9269\n",
      "Epoch 10/12\n",
      "37500/37500 [==============================] - 5s 138us/step - loss: 0.1726 - accuracy: 0.9316 - val_loss: 0.1862 - val_accuracy: 0.9269\n",
      "Epoch 11/12\n",
      "37500/37500 [==============================] - 5s 139us/step - loss: 0.1729 - accuracy: 0.9317 - val_loss: 0.1863 - val_accuracy: 0.9269\n",
      "Epoch 12/12\n",
      "37500/37500 [==============================] - 5s 137us/step - loss: 0.1726 - accuracy: 0.9319 - val_loss: 0.1854 - val_accuracy: 0.9273\n"
     ]
    },
    {
     "data": {
      "image/png": "[encoded data removed]",
      "text/plain": [
       "<Figure size 432x288 with 1 Axes>"
      ]
     },
     "metadata": {
      "needs_background": "light"
     },
     "output_type": "display_data"
    }
   ],
   "source": [
    "model.compile(loss='binary_crossentropy', optimizer='sgd', metrics=['accuracy'])\n",
    "'''\n",
    "作業:\n",
    "請分別選用 \"MSE\", \"binary _crossentropy\"\n",
    "查看Train/test accurancy and loss rate\n",
    "'''\n",
    "\n",
    "train_history = model.fit(x_img_train_normalize, y_label_train_OneHot,\n",
    "                          validation_split = 0.25,\n",
    "                          epochs = 12, batch_size = 128, verbose = 1)\n",
    "\n",
    "show_train_history('accuracy', 'val_accuracy')"
   ]
  },
  {
   "cell_type": "code",
   "execution_count": null,
   "metadata": {},
   "outputs": [],
   "source": []
  }
 ],
 "metadata": {
  "colab": {
   "name": "Day71-使用損失函數_HW.ipynb",
   "provenance": [],
   "version": "0.3.2"
  },
  "kernelspec": {
   "display_name": "Python 3",
   "language": "python",
   "name": "python3"
  },
  "language_info": {
   "codemirror_mode": {
    "name": "ipython",
    "version": 3
   },
   "file_extension": ".py",
   "mimetype": "text/x-python",
   "name": "python",
   "nbconvert_exporter": "python",
   "pygments_lexer": "ipython3",
   "version": "3.7.3"
  }
 },
 "nbformat": 4,
 "nbformat_minor": 1
}
